{
 "cells": [
  {
   "cell_type": "raw",
   "source": [
    "Формулировка критериев для электрообеспечения БУ"
   ],
   "metadata": {
    "collapsed": false
   }
  },
  {
   "cell_type": "code",
   "execution_count": 1,
   "outputs": [],
   "source": [
    "from math import log\n",
    "\n"
   ],
   "metadata": {
    "collapsed": false
   }
  },
  {
   "cell_type": "code",
   "execution_count": 2,
   "outputs": [],
   "source": [
    "def year(start, stop):\n",
    "    Year = []\n",
    "    while True:\n",
    "        Year.append(start)\n",
    "        start += 1\n",
    "        if start >= stop + 1:\n",
    "            break\n",
    "    return Year\n"
   ],
   "metadata": {
    "collapsed": false
   }
  },
  {
   "cell_type": "code",
   "execution_count": 3,
   "outputs": [
    {
     "data": {
      "text/plain": "[2023,\n 2024,\n 2025,\n 2026,\n 2027,\n 2028,\n 2029,\n 2030,\n 2031,\n 2032,\n 2033,\n 2034,\n 2035,\n 2036,\n 2037,\n 2038,\n 2039,\n 2040,\n 2041,\n 2042,\n 2043,\n 2044,\n 2045,\n 2046,\n 2047,\n 2048,\n 2049,\n 2050]"
     },
     "execution_count": 3,
     "metadata": {},
     "output_type": "execute_result"
    }
   ],
   "source": [
    "BU = {'Потребление 1 БУ электроэнергии, МВт': 1.5,\n",
    "      'БУ на месторождении, шт': 2,\n",
    "      'БУ в бурении, дни в году': 265,\n",
    "      'Расстояние, км': 90}\n",
    "\n",
    "const = {'Cредняя скорость транспорта': 40,\n",
    "         'Старт проекта, год': 2025,\n",
    "         'Начало отсчета': 2023,\n",
    "         'Конец расчета': 2050}\n",
    "\n",
    "DZ = {'Стоимость ДТ за 1л': 85,\n",
    "      'Стоимость заправщика-тягача': 6_800_000,\n",
    "      'Стоимость полуприцепа': 3_894_000,\n",
    "      'Емкость полуприцепа, куб.м.': 29,\n",
    "      'Норма выработки, куб.м.': 0.8937*log(BU['Потребление 1 БУ электроэнергии, МВт']) + 7.5661,\n",
    "      'Стоимость ДЭС': 69.149*log(BU['Потребление 1 БУ электроэнергии, МВт']) + 26.256,}\n",
    "\n",
    "NGH = {'Норма 1МВт': 2_000_000,\n",
    "       'Стоимость газа': 0.8,\n",
    "       'Стоимость тягача': 6_800_000,\n",
    "       'Стоимость полуприцепа': 5_700_000,\n",
    "       'Емкость 1 полуприцепа': 34_438}\n",
    "\n",
    "Year = year(start=const['Начало отсчета'], stop=const['Конец расчета'])\n",
    "Year"
   ],
   "metadata": {
    "collapsed": false
   }
  },
  {
   "cell_type": "code",
   "execution_count": 5,
   "outputs": [
    {
     "data": {
      "text/plain": "[28, 28]"
     },
     "execution_count": 5,
     "metadata": {},
     "output_type": "execute_result"
    }
   ],
   "source": [
    "i = 0\n",
    "capex_dez = []\n",
    "while True:\n",
    "    if i <= const['Конец расчета'] - const['Начало отсчета']:\n",
    "        if i == const['Старт проекта, год'] - const['Начало отсчета']:\n",
    "            capex_dez.append(DZ['Стоимость ДЭС'])\n",
    "        else:\n",
    "            capex_dez.append(0)\n",
    "        i += 1\n",
    "    else:\n",
    "        break\n"
   ],
   "metadata": {
    "collapsed": false
   }
  },
  {
   "cell_type": "code",
   "execution_count": 4,
   "outputs": [],
   "source": [],
   "metadata": {
    "collapsed": false
   }
  }
 ],
 "metadata": {
  "kernelspec": {
   "display_name": "Python 3",
   "language": "python",
   "name": "python3"
  },
  "language_info": {
   "codemirror_mode": {
    "name": "ipython",
    "version": 2
   },
   "file_extension": ".py",
   "mimetype": "text/x-python",
   "name": "python",
   "nbconvert_exporter": "python",
   "pygments_lexer": "ipython2",
   "version": "2.7.6"
  }
 },
 "nbformat": 4,
 "nbformat_minor": 0
}
